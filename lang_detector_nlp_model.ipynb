{
  "nbformat": 4,
  "nbformat_minor": 0,
  "metadata": {
    "colab": {
      "provenance": [],
      "gpuType": "T4"
    },
    "kernelspec": {
      "name": "python3",
      "display_name": "Python 3"
    },
    "language_info": {
      "name": "python"
    }
  },
  "cells": [
    {
      "cell_type": "code",
      "execution_count": 2,
      "metadata": {
        "id": "EsJSc99dMx5J"
      },
      "outputs": [],
      "source": [
        "!pip install -q scikit-learn joblib matplotlib seaborn\n"
      ]
    },
    {
      "cell_type": "code",
      "source": [
        "import random\n",
        "import re\n",
        "import os\n",
        "from pathlib import Path\n",
        "from collections import Counter\n",
        "import numpy as np\n",
        "import pandas as pd\n",
        "\n",
        "from sklearn.model_selection import train_test_split\n",
        "from sklearn.feature_extraction.text import TfidfVectorizer\n",
        "from sklearn.linear_model import LogisticRegression\n",
        "from sklearn.pipeline import make_pipeline\n",
        "from sklearn.metrics import classification_report, confusion_matrix, accuracy_score\n",
        "import joblib\n",
        "import matplotlib.pyplot as plt\n",
        "import seaborn as sns\n",
        "\n",
        "random.seed(42)\n",
        "np.random.seed(42)"
      ],
      "metadata": {
        "id": "D36fwDmSo9ie"
      },
      "execution_count": 3,
      "outputs": []
    },
    {
      "cell_type": "code",
      "source": [
        "# Cell 2 — synthetic dataset creation\n",
        "def build_word_pools():\n",
        "\n",
        "    pools = {}\n",
        "    pools['en'] = [\n",
        "        \"the\", \"and\", \"is\", \"in\", \"to\", \"for\", \"with\", \"on\", \"this\", \"that\",\n",
        "        \"data\", \"model\", \"language\", \"detect\", \"example\", \"test\", \"today\", \"new\",\n",
        "        \"computer\", \"science\", \"project\", \"hello\", \"world\", \"thanks\", \"please\"\n",
        "    ]\n",
        "    pools['es'] = [\n",
        "        \"el\", \"y\", \"es\", \"en\", \"para\", \"con\", \"sobre\", \"este\", \"esa\",\n",
        "        \"datos\", \"modelo\", \"lenguaje\", \"detectar\", \"ejemplo\", \"prueba\",\n",
        "        \"hoy\", \"nuevo\", \"computadora\", \"ciencia\", \"proyecto\", \"hola\", \"mundo\", \"gracias\"\n",
        "    ]\n",
        "    pools['fr'] = [\n",
        "        \"le\", \"et\", \"est\", \"dans\", \"pour\", \"avec\", \"sur\", \"ce\", \"cette\",\n",
        "        \"données\", \"modèle\", \"langue\", \"détecter\", \"exemple\", \"test\",\n",
        "        \"aujourd'hui\", \"nouveau\", \"ordinateur\", \"science\", \"projet\", \"bonjour\", \"monde\", \"merci\"\n",
        "    ]\n",
        "    pools['hi'] = [\n",
        "        \"यह\", \"और\", \"है\", \"में\", \"के\", \"के लिए\", \"के साथ\", \"पर\", \"यहाँ\",\n",
        "        \"डेटा\", \"मॉडल\", \"भाषा\", \"पता\", \"उदाहरण\", \"परीक्षण\",\n",
        "        \"आज\", \"नया\", \"कम्प्यूटर\", \"विज्ञान\", \"परियोजना\", \"नमस्ते\", \"धन्यवाद\"\n",
        "    ]\n",
        "    pools['zh'] = [\n",
        "        \"这\", \"和\", \"是\", \"在\", \"为\", \"与\", \"上\", \"这个\", \"那个\",\n",
        "        \"数据\", \"模型\", \"语言\", \"检测\", \"示例\", \"测试\",\n",
        "        \"今天\", \"新的\", \"计算机\", \"科学\", \"项目\", \"你好\", \"世界\", \"谢谢\"\n",
        "    ]\n",
        "    return pools\n",
        "\n",
        "def random_sentence(pool, min_len=3, max_len=12):\n",
        "    length = random.randint(min_len, max_len)\n",
        "    words = [random.choice(pool) for _ in range(length)]\n",
        "\n",
        "    return \" \".join(words)\n",
        "\n",
        "def add_noise(text, lang):\n",
        "\n",
        "    r = random.random()\n",
        "    if r < 0.1:\n",
        "        text = text + \"!\"\n",
        "    elif r < 0.2:\n",
        "        text = text + \"?\"\n",
        "    if random.random() < 0.15:\n",
        "        text = text + \" \" + str(random.randint(1, 999))\n",
        "    if lang == 'zh':\n",
        "        text = text.replace(\" \", \"\")\n",
        "    return text\n",
        "\n",
        "def generate_dataset(n_per_lang=3000):\n",
        "    pools = build_word_pools()\n",
        "    rows = []\n",
        "    for lang, pool in pools.items():\n",
        "\n",
        "        for i in range(n_per_lang):\n",
        "            s = random_sentence(pool, min_len=3, max_len=12)\n",
        "\n",
        "            if lang in ['en','es','fr'] and random.random() < 0.05:\n",
        "                s = s.capitalize()\n",
        "            s = add_noise(s, lang)\n",
        "            rows.append((s, lang))\n",
        "    df = pd.DataFrame(rows, columns=['text','lang'])\n",
        "\n",
        "    df = df.sample(frac=1, random_state=42).reset_index(drop=True)\n",
        "    return df\n",
        "\n",
        "# Generate dataset (configurable)\n",
        "n_per_lang = 3000\n",
        "df = generate_dataset(n_per_lang=n_per_lang)\n",
        "print(\"Dataset shape:\", df.shape)\n",
        "df.head(10)\n"
      ],
      "metadata": {
        "id": "PlWr3P54M_x6",
        "colab": {
          "base_uri": "https://localhost:8080/",
          "height": 380
        },
        "outputId": "75840b01-0bbd-44a5-f8da-4bbec9b7036e"
      },
      "execution_count": 4,
      "outputs": [
        {
          "output_type": "stream",
          "name": "stdout",
          "text": [
            "Dataset shape: (15000, 2)\n"
          ]
        },
        {
          "output_type": "execute_result",
          "data": {
            "text/plain": [
              "                                                text lang\n",
              "0  नया परीक्षण भाषा पता के के मॉडल उदाहरण आज पर ड...   hi\n",
              "1                          ce exemple monde détecter   fr\n",
              "2                               今天项目科学科学谢谢项目检测新的这这个与   zh\n",
              "3  is to please is that example today model on co...   en\n",
              "4                                nuevo gracias nuevo   es\n",
              "5                      le et monde données monde sur   fr\n",
              "6  hola para sobre modelo prueba computadora dete...   es\n",
              "7  datos para ejemplo nuevo lenguaje en hoy cienc...   es\n",
              "8    para modelo es con con modelo computadora datos   es\n",
              "9   hello world science please and thanks today this   en"
            ],
            "text/html": [
              "\n",
              "  <div id=\"df-af62787b-c058-463b-a5ae-79d59b7f0a59\" class=\"colab-df-container\">\n",
              "    <div>\n",
              "<style scoped>\n",
              "    .dataframe tbody tr th:only-of-type {\n",
              "        vertical-align: middle;\n",
              "    }\n",
              "\n",
              "    .dataframe tbody tr th {\n",
              "        vertical-align: top;\n",
              "    }\n",
              "\n",
              "    .dataframe thead th {\n",
              "        text-align: right;\n",
              "    }\n",
              "</style>\n",
              "<table border=\"1\" class=\"dataframe\">\n",
              "  <thead>\n",
              "    <tr style=\"text-align: right;\">\n",
              "      <th></th>\n",
              "      <th>text</th>\n",
              "      <th>lang</th>\n",
              "    </tr>\n",
              "  </thead>\n",
              "  <tbody>\n",
              "    <tr>\n",
              "      <th>0</th>\n",
              "      <td>नया परीक्षण भाषा पता के के मॉडल उदाहरण आज पर ड...</td>\n",
              "      <td>hi</td>\n",
              "    </tr>\n",
              "    <tr>\n",
              "      <th>1</th>\n",
              "      <td>ce exemple monde détecter</td>\n",
              "      <td>fr</td>\n",
              "    </tr>\n",
              "    <tr>\n",
              "      <th>2</th>\n",
              "      <td>今天项目科学科学谢谢项目检测新的这这个与</td>\n",
              "      <td>zh</td>\n",
              "    </tr>\n",
              "    <tr>\n",
              "      <th>3</th>\n",
              "      <td>is to please is that example today model on co...</td>\n",
              "      <td>en</td>\n",
              "    </tr>\n",
              "    <tr>\n",
              "      <th>4</th>\n",
              "      <td>nuevo gracias nuevo</td>\n",
              "      <td>es</td>\n",
              "    </tr>\n",
              "    <tr>\n",
              "      <th>5</th>\n",
              "      <td>le et monde données monde sur</td>\n",
              "      <td>fr</td>\n",
              "    </tr>\n",
              "    <tr>\n",
              "      <th>6</th>\n",
              "      <td>hola para sobre modelo prueba computadora dete...</td>\n",
              "      <td>es</td>\n",
              "    </tr>\n",
              "    <tr>\n",
              "      <th>7</th>\n",
              "      <td>datos para ejemplo nuevo lenguaje en hoy cienc...</td>\n",
              "      <td>es</td>\n",
              "    </tr>\n",
              "    <tr>\n",
              "      <th>8</th>\n",
              "      <td>para modelo es con con modelo computadora datos</td>\n",
              "      <td>es</td>\n",
              "    </tr>\n",
              "    <tr>\n",
              "      <th>9</th>\n",
              "      <td>hello world science please and thanks today this</td>\n",
              "      <td>en</td>\n",
              "    </tr>\n",
              "  </tbody>\n",
              "</table>\n",
              "</div>\n",
              "    <div class=\"colab-df-buttons\">\n",
              "\n",
              "  <div class=\"colab-df-container\">\n",
              "    <button class=\"colab-df-convert\" onclick=\"convertToInteractive('df-af62787b-c058-463b-a5ae-79d59b7f0a59')\"\n",
              "            title=\"Convert this dataframe to an interactive table.\"\n",
              "            style=\"display:none;\">\n",
              "\n",
              "  <svg xmlns=\"http://www.w3.org/2000/svg\" height=\"24px\" viewBox=\"0 -960 960 960\">\n",
              "    <path d=\"M120-120v-720h720v720H120Zm60-500h600v-160H180v160Zm220 220h160v-160H400v160Zm0 220h160v-160H400v160ZM180-400h160v-160H180v160Zm440 0h160v-160H620v160ZM180-180h160v-160H180v160Zm440 0h160v-160H620v160Z\"/>\n",
              "  </svg>\n",
              "    </button>\n",
              "\n",
              "  <style>\n",
              "    .colab-df-container {\n",
              "      display:flex;\n",
              "      gap: 12px;\n",
              "    }\n",
              "\n",
              "    .colab-df-convert {\n",
              "      background-color: #E8F0FE;\n",
              "      border: none;\n",
              "      border-radius: 50%;\n",
              "      cursor: pointer;\n",
              "      display: none;\n",
              "      fill: #1967D2;\n",
              "      height: 32px;\n",
              "      padding: 0 0 0 0;\n",
              "      width: 32px;\n",
              "    }\n",
              "\n",
              "    .colab-df-convert:hover {\n",
              "      background-color: #E2EBFA;\n",
              "      box-shadow: 0px 1px 2px rgba(60, 64, 67, 0.3), 0px 1px 3px 1px rgba(60, 64, 67, 0.15);\n",
              "      fill: #174EA6;\n",
              "    }\n",
              "\n",
              "    .colab-df-buttons div {\n",
              "      margin-bottom: 4px;\n",
              "    }\n",
              "\n",
              "    [theme=dark] .colab-df-convert {\n",
              "      background-color: #3B4455;\n",
              "      fill: #D2E3FC;\n",
              "    }\n",
              "\n",
              "    [theme=dark] .colab-df-convert:hover {\n",
              "      background-color: #434B5C;\n",
              "      box-shadow: 0px 1px 3px 1px rgba(0, 0, 0, 0.15);\n",
              "      filter: drop-shadow(0px 1px 2px rgba(0, 0, 0, 0.3));\n",
              "      fill: #FFFFFF;\n",
              "    }\n",
              "  </style>\n",
              "\n",
              "    <script>\n",
              "      const buttonEl =\n",
              "        document.querySelector('#df-af62787b-c058-463b-a5ae-79d59b7f0a59 button.colab-df-convert');\n",
              "      buttonEl.style.display =\n",
              "        google.colab.kernel.accessAllowed ? 'block' : 'none';\n",
              "\n",
              "      async function convertToInteractive(key) {\n",
              "        const element = document.querySelector('#df-af62787b-c058-463b-a5ae-79d59b7f0a59');\n",
              "        const dataTable =\n",
              "          await google.colab.kernel.invokeFunction('convertToInteractive',\n",
              "                                                    [key], {});\n",
              "        if (!dataTable) return;\n",
              "\n",
              "        const docLinkHtml = 'Like what you see? Visit the ' +\n",
              "          '<a target=\"_blank\" href=https://colab.research.google.com/notebooks/data_table.ipynb>data table notebook</a>'\n",
              "          + ' to learn more about interactive tables.';\n",
              "        element.innerHTML = '';\n",
              "        dataTable['output_type'] = 'display_data';\n",
              "        await google.colab.output.renderOutput(dataTable, element);\n",
              "        const docLink = document.createElement('div');\n",
              "        docLink.innerHTML = docLinkHtml;\n",
              "        element.appendChild(docLink);\n",
              "      }\n",
              "    </script>\n",
              "  </div>\n",
              "\n",
              "\n",
              "    <div id=\"df-fc52aa94-abd0-474d-9cff-c9a11ad961ed\">\n",
              "      <button class=\"colab-df-quickchart\" onclick=\"quickchart('df-fc52aa94-abd0-474d-9cff-c9a11ad961ed')\"\n",
              "                title=\"Suggest charts\"\n",
              "                style=\"display:none;\">\n",
              "\n",
              "<svg xmlns=\"http://www.w3.org/2000/svg\" height=\"24px\"viewBox=\"0 0 24 24\"\n",
              "     width=\"24px\">\n",
              "    <g>\n",
              "        <path d=\"M19 3H5c-1.1 0-2 .9-2 2v14c0 1.1.9 2 2 2h14c1.1 0 2-.9 2-2V5c0-1.1-.9-2-2-2zM9 17H7v-7h2v7zm4 0h-2V7h2v10zm4 0h-2v-4h2v4z\"/>\n",
              "    </g>\n",
              "</svg>\n",
              "      </button>\n",
              "\n",
              "<style>\n",
              "  .colab-df-quickchart {\n",
              "      --bg-color: #E8F0FE;\n",
              "      --fill-color: #1967D2;\n",
              "      --hover-bg-color: #E2EBFA;\n",
              "      --hover-fill-color: #174EA6;\n",
              "      --disabled-fill-color: #AAA;\n",
              "      --disabled-bg-color: #DDD;\n",
              "  }\n",
              "\n",
              "  [theme=dark] .colab-df-quickchart {\n",
              "      --bg-color: #3B4455;\n",
              "      --fill-color: #D2E3FC;\n",
              "      --hover-bg-color: #434B5C;\n",
              "      --hover-fill-color: #FFFFFF;\n",
              "      --disabled-bg-color: #3B4455;\n",
              "      --disabled-fill-color: #666;\n",
              "  }\n",
              "\n",
              "  .colab-df-quickchart {\n",
              "    background-color: var(--bg-color);\n",
              "    border: none;\n",
              "    border-radius: 50%;\n",
              "    cursor: pointer;\n",
              "    display: none;\n",
              "    fill: var(--fill-color);\n",
              "    height: 32px;\n",
              "    padding: 0;\n",
              "    width: 32px;\n",
              "  }\n",
              "\n",
              "  .colab-df-quickchart:hover {\n",
              "    background-color: var(--hover-bg-color);\n",
              "    box-shadow: 0 1px 2px rgba(60, 64, 67, 0.3), 0 1px 3px 1px rgba(60, 64, 67, 0.15);\n",
              "    fill: var(--button-hover-fill-color);\n",
              "  }\n",
              "\n",
              "  .colab-df-quickchart-complete:disabled,\n",
              "  .colab-df-quickchart-complete:disabled:hover {\n",
              "    background-color: var(--disabled-bg-color);\n",
              "    fill: var(--disabled-fill-color);\n",
              "    box-shadow: none;\n",
              "  }\n",
              "\n",
              "  .colab-df-spinner {\n",
              "    border: 2px solid var(--fill-color);\n",
              "    border-color: transparent;\n",
              "    border-bottom-color: var(--fill-color);\n",
              "    animation:\n",
              "      spin 1s steps(1) infinite;\n",
              "  }\n",
              "\n",
              "  @keyframes spin {\n",
              "    0% {\n",
              "      border-color: transparent;\n",
              "      border-bottom-color: var(--fill-color);\n",
              "      border-left-color: var(--fill-color);\n",
              "    }\n",
              "    20% {\n",
              "      border-color: transparent;\n",
              "      border-left-color: var(--fill-color);\n",
              "      border-top-color: var(--fill-color);\n",
              "    }\n",
              "    30% {\n",
              "      border-color: transparent;\n",
              "      border-left-color: var(--fill-color);\n",
              "      border-top-color: var(--fill-color);\n",
              "      border-right-color: var(--fill-color);\n",
              "    }\n",
              "    40% {\n",
              "      border-color: transparent;\n",
              "      border-right-color: var(--fill-color);\n",
              "      border-top-color: var(--fill-color);\n",
              "    }\n",
              "    60% {\n",
              "      border-color: transparent;\n",
              "      border-right-color: var(--fill-color);\n",
              "    }\n",
              "    80% {\n",
              "      border-color: transparent;\n",
              "      border-right-color: var(--fill-color);\n",
              "      border-bottom-color: var(--fill-color);\n",
              "    }\n",
              "    90% {\n",
              "      border-color: transparent;\n",
              "      border-bottom-color: var(--fill-color);\n",
              "    }\n",
              "  }\n",
              "</style>\n",
              "\n",
              "      <script>\n",
              "        async function quickchart(key) {\n",
              "          const quickchartButtonEl =\n",
              "            document.querySelector('#' + key + ' button');\n",
              "          quickchartButtonEl.disabled = true;  // To prevent multiple clicks.\n",
              "          quickchartButtonEl.classList.add('colab-df-spinner');\n",
              "          try {\n",
              "            const charts = await google.colab.kernel.invokeFunction(\n",
              "                'suggestCharts', [key], {});\n",
              "          } catch (error) {\n",
              "            console.error('Error during call to suggestCharts:', error);\n",
              "          }\n",
              "          quickchartButtonEl.classList.remove('colab-df-spinner');\n",
              "          quickchartButtonEl.classList.add('colab-df-quickchart-complete');\n",
              "        }\n",
              "        (() => {\n",
              "          let quickchartButtonEl =\n",
              "            document.querySelector('#df-fc52aa94-abd0-474d-9cff-c9a11ad961ed button');\n",
              "          quickchartButtonEl.style.display =\n",
              "            google.colab.kernel.accessAllowed ? 'block' : 'none';\n",
              "        })();\n",
              "      </script>\n",
              "    </div>\n",
              "\n",
              "    </div>\n",
              "  </div>\n"
            ],
            "application/vnd.google.colaboratory.intrinsic+json": {
              "type": "dataframe",
              "variable_name": "df",
              "summary": "{\n  \"name\": \"df\",\n  \"rows\": 15000,\n  \"fields\": [\n    {\n      \"column\": \"text\",\n      \"properties\": {\n        \"dtype\": \"string\",\n        \"num_unique_values\": 14992,\n        \"samples\": [\n          \"hello in detect language science new thanks that in detect 497\",\n          \"\\u0915\\u0947 \\u0932\\u093f\\u090f \\u0906\\u091c \\u0921\\u0947\\u091f\\u093e \\u092a\\u0924\\u093e \\u092e\\u0947\\u0902 \\u092a\\u0930\\u093f\\u092f\\u094b\\u091c\\u0928\\u093e \\u0928\\u092f\\u093e \\u092e\\u0947\\u0902 \\u0909\\u0926\\u093e\\u0939\\u0930\\u0923 \\u0921\\u0947\\u091f\\u093e \\u0921\\u0947\\u091f\\u093e\",\n          \"on for data computer thanks data with please for\"\n        ],\n        \"semantic_type\": \"\",\n        \"description\": \"\"\n      }\n    },\n    {\n      \"column\": \"lang\",\n      \"properties\": {\n        \"dtype\": \"category\",\n        \"num_unique_values\": 5,\n        \"samples\": [\n          \"fr\",\n          \"es\",\n          \"zh\"\n        ],\n        \"semantic_type\": \"\",\n        \"description\": \"\"\n      }\n    }\n  ]\n}"
            }
          },
          "metadata": {},
          "execution_count": 4
        }
      ]
    },
    {
      "cell_type": "code",
      "source": [
        "# Cell 3 — inspect distribution & examples\n",
        "print(df['lang'].value_counts())\n",
        "for lang in df['lang'].unique():\n",
        "    print(f\"\\nSample ({lang}):\")\n",
        "    print(df[df['lang']==lang]['text'].sample(3, random_state=42).tolist())\n"
      ],
      "metadata": {
        "colab": {
          "base_uri": "https://localhost:8080/"
        },
        "id": "p0QKG56ApEqd",
        "outputId": "3c2b35a7-0558-4699-f980-da6678483560"
      },
      "execution_count": 5,
      "outputs": [
        {
          "output_type": "stream",
          "name": "stdout",
          "text": [
            "lang\n",
            "hi    3000\n",
            "fr    3000\n",
            "zh    3000\n",
            "en    3000\n",
            "es    3000\n",
            "Name: count, dtype: int64\n",
            "\n",
            "Sample (hi):\n",
            "['कम्प्यूटर भाषा पता धन्यवाद मॉडल पता उदाहरण भाषा डेटा धन्यवाद नया 133', 'पर यह धन्यवाद यह मॉडल', 'पर आज कम्प्यूटर परियोजना डेटा यह विज्ञान नया']\n",
            "\n",
            "Sample (fr):\n",
            "['test ordinateur projet monde sur et sur ordinateur dans données test', \"projet sur aujourd'hui sur détecter ce et dans langue bonjour avec\", 'modèle sur exemple merci modèle détecter et']\n",
            "\n",
            "Sample (zh):\n",
            "['检测数据模型检测这个项目与', '世界模型语言那个模型在为检测!', '上上项目模型你好今天']\n",
            "\n",
            "Sample (en):\n",
            "['in project thanks hello the test?', 'For this hello model data language computer detect this that with', 'with example project thanks to world']\n",
            "\n",
            "Sample (es):\n",
            "['sobre para hola ciencia', 'en con ejemplo esa este nuevo esa hoy gracias el proyecto computadora', 'ejemplo esa ciencia es este detectar es ejemplo lenguaje prueba']\n"
          ]
        }
      ]
    },
    {
      "cell_type": "code",
      "source": [
        "# Cell 4 — train/test split\n",
        "X = df['text'].values\n",
        "y = df['lang'].values\n",
        "\n",
        "X_train, X_test, y_train, y_test = train_test_split(X, y, test_size=0.15, stratify=y, random_state=42)\n",
        "\n",
        "print(\"Train:\", len(X_train), \"Test:\", len(X_test))\n"
      ],
      "metadata": {
        "colab": {
          "base_uri": "https://localhost:8080/"
        },
        "id": "e_emqOERpGk2",
        "outputId": "b519e770-b273-494d-e2a4-d34ba0b47134"
      },
      "execution_count": 6,
      "outputs": [
        {
          "output_type": "stream",
          "name": "stdout",
          "text": [
            "Train: 12750 Test: 2250\n"
          ]
        }
      ]
    },
    {
      "cell_type": "code",
      "source": [
        "# Cell 5 — build and train model\n",
        "# Character n-grams are strong features for language ID\n",
        "vectorizer = TfidfVectorizer(analyzer='char', ngram_range=(1,4), max_features=50000)\n",
        "model = LogisticRegression(max_iter=1000, multi_class='multinomial', solver='saga', C=1.0, n_jobs=-1)\n",
        "\n",
        "pipe = make_pipeline(vectorizer, model)\n",
        "\n",
        "print(\"Training model ... (this may take ~30-90s depending on dataset size & Colab instance)\")\n",
        "pipe.fit(X_train, y_train)\n",
        "print(\"Training finished.\")\n"
      ],
      "metadata": {
        "colab": {
          "base_uri": "https://localhost:8080/"
        },
        "id": "fcmJokWhpJqw",
        "outputId": "f2318c3e-815f-4e0b-8a5d-7e140e088f8e"
      },
      "execution_count": 7,
      "outputs": [
        {
          "output_type": "stream",
          "name": "stdout",
          "text": [
            "Training model ... (this may take ~30-90s depending on dataset size & Colab instance)\n"
          ]
        },
        {
          "output_type": "stream",
          "name": "stderr",
          "text": [
            "/usr/local/lib/python3.12/dist-packages/sklearn/linear_model/_logistic.py:1247: FutureWarning: 'multi_class' was deprecated in version 1.5 and will be removed in 1.7. From then on, it will always use 'multinomial'. Leave it to its default value to avoid this warning.\n",
            "  warnings.warn(\n"
          ]
        },
        {
          "output_type": "stream",
          "name": "stdout",
          "text": [
            "Training finished.\n"
          ]
        }
      ]
    },
    {
      "cell_type": "code",
      "source": [
        "# Cell 6 — evaluation\n",
        "y_pred = pipe.predict(X_test)\n",
        "acc = accuracy_score(y_test, y_pred)\n",
        "print(f\"Test accuracy: {acc:.4f}\\n\")\n",
        "print(\"Classification report:\")\n",
        "print(classification_report(y_test, y_pred, digits=4))\n",
        "\n",
        "# Confusion matrix plot\n",
        "cm = confusion_matrix(y_test, y_pred, labels=['en','es','fr','hi','zh'])\n",
        "cm_norm = cm.astype('float') / cm.sum(axis=1)[:, np.newaxis]\n",
        "\n",
        "plt.figure(figsize=(7,6))\n",
        "sns.heatmap(cm_norm, annot=True, fmt=\".2f\",\n",
        "            xticklabels=['en','es','fr','hi','zh'],\n",
        "            yticklabels=['en','es','fr','hi','zh'], cmap=\"Blues\")\n",
        "plt.xlabel(\"Predicted\")\n",
        "plt.ylabel(\"Actual\")\n",
        "plt.title(\"Normalized confusion matrix\")\n",
        "plt.show()\n"
      ],
      "metadata": {
        "colab": {
          "base_uri": "https://localhost:8080/",
          "height": 824
        },
        "id": "-e07Z1XPpPAJ",
        "outputId": "4c0cf706-c829-4e2c-f2f5-319bed431558"
      },
      "execution_count": 8,
      "outputs": [
        {
          "output_type": "stream",
          "name": "stdout",
          "text": [
            "Test accuracy: 1.0000\n",
            "\n",
            "Classification report:\n",
            "              precision    recall  f1-score   support\n",
            "\n",
            "          en     1.0000    1.0000    1.0000       450\n",
            "          es     1.0000    1.0000    1.0000       450\n",
            "          fr     1.0000    1.0000    1.0000       450\n",
            "          hi     1.0000    1.0000    1.0000       450\n",
            "          zh     1.0000    1.0000    1.0000       450\n",
            "\n",
            "    accuracy                         1.0000      2250\n",
            "   macro avg     1.0000    1.0000    1.0000      2250\n",
            "weighted avg     1.0000    1.0000    1.0000      2250\n",
            "\n"
          ]
        },
        {
          "output_type": "display_data",
          "data": {
            "text/plain": [
              "<Figure size 700x600 with 2 Axes>"
            ],
            "image/png": "[encoded data removed]"
          },
          "metadata": {}
        }
      ]
    },
    {
      "cell_type": "code",
      "source": [
        "# Cell 7 — save model to Drive or local runtime\n",
        "model_path = \"lang_detector_pipeline.joblib\"\n",
        "joblib.dump(pipe, model_path)\n",
        "print(\"Saved model to\", model_path)\n",
        "\n"
      ],
      "metadata": {
        "colab": {
          "base_uri": "https://localhost:8080/"
        },
        "id": "QC5DmkVWpS-2",
        "outputId": "03c0550f-0bdf-4921-93a6-613e8903796b"
      },
      "execution_count": 9,
      "outputs": [
        {
          "output_type": "stream",
          "name": "stdout",
          "text": [
            "Saved model to lang_detector_pipeline.joblib\n"
          ]
        }
      ]
    },
    {
      "cell_type": "code",
      "source": [
        "# Cell 8 — predictions on custom text\n",
        "examples = [\n",
        "    \"This is an example sentence to test language detection.\",\n",
        "    \"Este es un texto en español para comprobar.\",\n",
        "    \"Ceci est un court texte en français.\",\n",
        "    \"यह एक परीक्षण वाक्य है।\",\n",
        "    \"这是一个中文的例子。\"\n",
        "]\n",
        "\n",
        "preds = pipe.predict(examples)\n",
        "probs = pipe.predict_proba(examples)\n",
        "\n",
        "for txt, p, prob in zip(examples, preds, probs):\n",
        "    top_idx = prob.argmax()\n",
        "    top_score = prob[top_idx]\n",
        "    print(f\"Text: {txt}\")\n",
        "    print(f\"Predicted: {p} (confidence: {top_score:.3f})\\n\")\n"
      ],
      "metadata": {
        "colab": {
          "base_uri": "https://localhost:8080/"
        },
        "id": "vXpMq40YpUqp",
        "outputId": "d437309f-e470-45be-e20e-20aafc7ef9d5"
      },
      "execution_count": 10,
      "outputs": [
        {
          "output_type": "stream",
          "name": "stdout",
          "text": [
            "Text: This is an example sentence to test language detection.\n",
            "Predicted: en (confidence: 0.986)\n",
            "\n",
            "Text: Este es un texto en español para comprobar.\n",
            "Predicted: es (confidence: 0.976)\n",
            "\n",
            "Text: Ceci est un court texte en français.\n",
            "Predicted: fr (confidence: 0.575)\n",
            "\n",
            "Text: यह एक परीक्षण वाक्य है।\n",
            "Predicted: hi (confidence: 0.988)\n",
            "\n",
            "Text: 这是一个中文的例子。\n",
            "Predicted: zh (confidence: 0.991)\n",
            "\n"
          ]
        }
      ]
    },
    {
      "cell_type": "code",
      "source": [
        "# Cell 9 — Interactive test loop\n",
        "import joblib\n",
        "\n",
        "\n",
        "model_path = \"lang_detector_pipeline.joblib\"\n",
        "pipe = joblib.load(model_path)\n",
        "\n",
        "print(\"✅ Language Detector Ready!\\n\")\n",
        "print(\"Type any text in any language (English, Hindi, Spanish, French, Chinese).\")\n",
        "print(\"Type 'exit' or press Enter with no text to stop.\\n\")\n",
        "\n",
        "while True:\n",
        "    text = input(\"Enter text: \").strip()\n",
        "    if text.lower() == \"exit\" or text == \"\":\n",
        "        print(\"Exiting.\")\n",
        "        break\n",
        "    pred = pipe.predict([text])[0]\n",
        "    prob = pipe.predict_proba([text])[0].max()\n",
        "    print(f\"🗣 Detected Language: {pred}  (confidence: {prob:.3f})\\n\")\n"
      ],
      "metadata": {
        "colab": {
          "base_uri": "https://localhost:8080/"
        },
        "id": "WHDz6aBcpoQ6",
        "outputId": "27512556-25b5-489e-c5a5-b0ba43288f11"
      },
      "execution_count": 11,
      "outputs": [
        {
          "output_type": "stream",
          "name": "stdout",
          "text": [
            "✅ Language Detector Ready!\n",
            "\n",
            "Type any text in any language (English, Hindi, Spanish, French, Chinese).\n",
            "Type 'exit' or press Enter with no text to stop.\n",
            "\n",
            "Enter text: buen día\n",
            "🗣 Detected Language: es  (confidence: 0.575)\n",
            "\n",
            "Enter text: 谢谢\n",
            "🗣 Detected Language: zh  (confidence: 0.985)\n",
            "\n",
            "Enter text: धन्यवाद\n",
            "🗣 Detected Language: hi  (confidence: 0.860)\n",
            "\n",
            "Enter text: français\n",
            "🗣 Detected Language: en  (confidence: 0.592)\n",
            "\n",
            "Enter text: \n",
            "Exiting.\n"
          ]
        }
      ]
    }
  ]
}